{
  "cells": [
    {
      "cell_type": "markdown",
      "metadata": {
        "id": "M-DGa20PaHnu"
      },
      "source": [
        "#Задача 1\n",
        "Написать функцию на вход которой подается строка, состоящая из латинских букв.\n",
        "Функция должна вернуть количество гласных букв (a, e, i, o, u) в этой строке. Написать тесты для кода"
      ]
    },
    {
      "cell_type": "code",
      "execution_count": 1,
      "metadata": {
        "id": "XvX8X_JJ6PCb"
      },
      "outputs": [],
      "source": [
        "# Your code goes here\n",
        "\n",
        "from typing import Dict\n",
        "\n",
        "def vowels_counter(word: str) -> Dict[str, int]:\n",
        "    vowels = {'a': 0, 'e': 0, 'i': 0, 'o': 0, 'u': 0}\n",
        "    for vowel in vowels:\n",
        "        vowels[vowel] = word.count(vowel)\n",
        "    \n",
        "    return vowels\n",
        "\n",
        "if __name__ == '__main__':\n",
        "    assert vowels_counter('hello') == {'a': 0, 'e': 1, 'i': 0, 'o': 1, 'u': 0}\n",
        "    assert vowels_counter('abcdef') == {'a': 1, 'e': 1, 'i': 0, 'o': 0, 'u': 0}\n",
        "    assert vowels_counter('aeiou') == {'a': 1, 'e': 1, 'i': 1, 'o': 1, 'u': 1}\n",
        "    assert vowels_counter('12ueiig') == {'a': 0, 'e': 1, 'i': 2, 'o': 0, 'u': 1}\n",
        "    assert vowels_counter('') == {'a': 0, 'e': 0, 'i': 0, 'o': 0, 'u': 0}"
      ]
    },
    {
      "cell_type": "markdown",
      "metadata": {
        "id": "t2ClV_Y0bbr6"
      },
      "source": [
        "# Задача 2\n",
        "Написать функцию на вход, которой подается строка. Функция должна вернуть true, если\n",
        "каждый символ в строке встречается только 1 раз, иначе должна вернуть false. Написать тесты для кода"
      ]
    },
    {
      "cell_type": "code",
      "execution_count": 2,
      "metadata": {
        "id": "FppbECao6VIz"
      },
      "outputs": [],
      "source": [
        "# Your code goes here\n",
        "def is_unique(string: str) -> bool:\n",
        "    return len(string) == len(set(string))\n",
        "\n",
        "if __name__ == '__main__':\n",
        "    assert is_unique('dog') == True\n",
        "    assert is_unique('abcdefgoplkmn') == True\n",
        "    assert is_unique('') == True\n",
        "    assert is_unique('hello') == False\n",
        "    assert is_unique('oshgashgdso') == False"
      ]
    },
    {
      "cell_type": "markdown",
      "metadata": {
        "id": "udRiIK1cdt6E"
      },
      "source": [
        "# Задача 3\n",
        "Написать функцию, которая принимает положительное число и возвращает количество\n",
        "бит равных 1 в этом числе. Написать тесты для кода"
      ]
    },
    {
      "cell_type": "code",
      "execution_count": 3,
      "metadata": {
        "id": "6tkfDJRz6dp_"
      },
      "outputs": [],
      "source": [
        "# Your code goes here\n",
        "def count_bits(number: int) -> int:\n",
        "    if number <= 0:\n",
        "        return\n",
        "    \n",
        "    return bin(number).count('1')\n",
        "\n",
        "if __name__ == '__main__':\n",
        "    assert count_bits(5) == 2\n",
        "    assert count_bits(15) == 4\n",
        "    assert count_bits(1023) == 10"
      ]
    },
    {
      "cell_type": "markdown",
      "metadata": {
        "id": "26dDUz-Ae17N"
      },
      "source": [
        "# Задача 4\n",
        "Написать функцию, которая принимает положительное число. Функция должна вернуть то,\n",
        "сколько раз необходимо перемножать цифры числа или результат перемножения, чтобы\n",
        "получилось число состоящее из одной цифры.\n",
        "Например, для входного числа:\n",
        "· 39 функция должна вернуть 3, так как 3*9=27 => 2*7=14 => 1*4=4\n",
        "· 4 функция должна вернуть 0, так как число уже состоит из одной цифры\n",
        "· 999 функция должна вернуть 4, так как 9*9*9=729 => 7*2*9=126 => 1*2*6=12 =>\n",
        "1*2=2. Написать тесты для кода"
      ]
    },
    {
      "cell_type": "code",
      "execution_count": 4,
      "metadata": {
        "id": "BH1A_Mgi6i4G"
      },
      "outputs": [],
      "source": [
        "def do_magic(number: int) -> int:\n",
        "    if number <= 0:\n",
        "        return\n",
        "\n",
        "    steps = 0\n",
        "    while number >= 10:\n",
        "        new_number = 1\n",
        "        for digit in str(number):\n",
        "            new_number *= int(digit)\n",
        "        steps += 1\n",
        "        number = new_number\n",
        "\n",
        "    return steps\n",
        "            \n",
        "if __name__ == '__main__':\n",
        "    assert do_magic(39) == 3\n",
        "    assert do_magic(4) == 0\n",
        "    assert do_magic(999) == 4\n",
        "    assert do_magic (10) == 1"
      ]
    },
    {
      "cell_type": "markdown",
      "metadata": {
        "id": "0nS-kIa8g8vd"
      },
      "source": [
        "# Задача 5\n",
        "Написать функцию, которая принимает два целочисленных вектора одинаковой длины и\n",
        "возвращает среднеквадратическое отклонение двух векторов. Написать тесты для кода"
      ]
    },
    {
      "cell_type": "code",
      "execution_count": 5,
      "metadata": {
        "id": "8iphx4LM6xbx"
      },
      "outputs": [],
      "source": [
        "from typing import List\n",
        "\n",
        "def count_mse(vector_1: List[int], vector_2: List[int]) -> float:\n",
        "    if len(vector_1) != len(vector_2):\n",
        "        return\n",
        "    \n",
        "    mse = sum((num_1 - num_2) ** 2 for num_1, num_2 in zip(vector_1, vector_2)) / len(vector_1)\n",
        "    \n",
        "    return mse ** 0.5\n",
        "\n",
        "if __name__ == '__main__':\n",
        "    assert count_mse([1, 2, 3], [4, 5, 6]) == 3.0\n",
        "    assert count_mse([10, 20, 30], [10, 20, 30]) == 0\n",
        "    assert count_mse([0, 0, 0], [1, 1, 1]) == 1.0 "
      ]
    },
    {
      "cell_type": "markdown",
      "metadata": {
        "id": "vpIPKL439zkw"
      },
      "source": [
        "# Задача 6\n",
        "Написать функцию, принимающая целое положительное число. Функция должна вернуть\n",
        "строку вида “(n1**p1)(n2**p2)…(nk**pk)” представляющая разложение числа на простые\n",
        "множители (если pi == 1, то выводить только ni).\n",
        "Например, для числа 86240 функция должна вернуть “(2**5)(5)(7**2)(11)”. Написать тесты для кода"
      ]
    },
    {
      "cell_type": "code",
      "execution_count": 6,
      "metadata": {
        "id": "pFebmcZk94Jw"
      },
      "outputs": [],
      "source": [
        "# Your code goes here\n",
        "def get_prime_factors(number: int) -> str:\n",
        "    if number <= 1:\n",
        "        return \"\"\n",
        "    \n",
        "    prime_factors = {}\n",
        "    \n",
        "    # Проверяем делимость на 2\n",
        "    while number % 2 == 0:\n",
        "        if 2 in prime_factors:\n",
        "            prime_factors[2] += 1\n",
        "        else:\n",
        "            prime_factors[2] = 1\n",
        "        number //= 2\n",
        "    \n",
        "    # Проверяем делимость на нечетные числа\n",
        "    for dividor in range(3, int(number**0.5) + 1, 2):\n",
        "        while number % dividor == 0:\n",
        "            if dividor in prime_factors:\n",
        "                prime_factors[dividor] += 1\n",
        "            else:\n",
        "                prime_factors[dividor] = 1\n",
        "            number //= dividor\n",
        "            \n",
        "    # Если n является простым числом больше 2\n",
        "    if number > 2:\n",
        "        prime_factors[number] = 1\n",
        "    \n",
        "    # Формируем строку разложения\n",
        "    result = []\n",
        "    for prime, exponent in prime_factors.items():\n",
        "        if exponent == 1:\n",
        "            result.append(f\"({prime})\")\n",
        "        else:\n",
        "            result.append(f\"({prime}**{exponent})\")\n",
        "    \n",
        "    return \"\".join(result)\n",
        "\n",
        "if __name__ == '__main__':\n",
        "    assert get_prime_factors(86240) == \"(2**5)(5)(7**2)(11)\"\n",
        "    assert get_prime_factors(60) == \"(2**2)(3)(5)\"\n",
        "    assert get_prime_factors(28) == \"(2**2)(7)\"\n",
        "    assert get_prime_factors(1) == \"\"\n",
        "    assert get_prime_factors(13) == \"(13)\"\n",
        "    assert get_prime_factors(100) == \"(2**2)(5**2)\""
      ]
    },
    {
      "cell_type": "markdown",
      "metadata": {
        "id": "ps2s0BudX7A2"
      },
      "source": [
        "# Задача 7\n",
        "Написать функцию, принимающая целое число n, задающее количество кубиков. Функция\n",
        "должна определить, можно ли из данного кол-ва кубиков построить пирамиду, то есть\n",
        "можно ли представить число n как 1^2+2^2+3^2+…+k^2. Если можно, то функция должна\n",
        "вернуть k, иначе строку “It is impossible”. Написать тесты для кода"
      ]
    },
    {
      "cell_type": "code",
      "execution_count": 8,
      "metadata": {
        "id": "3YPjEXxhX_YT"
      },
      "outputs": [],
      "source": [
        "def can_build_pyramid(number: int):\n",
        "    levels = 0\n",
        "    total = 0\n",
        "\n",
        "    while total < number:\n",
        "        levels += 1\n",
        "        total += levels ** 2\n",
        "    \n",
        "    if total == number:\n",
        "        return levels\n",
        "    else:\n",
        "        return \"It is impossible\"\n",
        "\n",
        "if __name__ == '__main__':\n",
        "    assert can_build_pyramid(1) == 1\n",
        "    assert can_build_pyramid(5) == 2\n",
        "    assert can_build_pyramid(14) == 3\n",
        "    assert can_build_pyramid(30) == 4\n",
        "    assert can_build_pyramid(55) == 5\n",
        "    assert can_build_pyramid(0) == 0\n",
        "    assert can_build_pyramid(6) == \"It is impossible\""
      ]
    },
    {
      "cell_type": "markdown",
      "metadata": {
        "id": "KeKgmIdAQMEJ"
      },
      "source": [
        "# Задача 8\n",
        "Функция принимает на вход положительное число и определяет является ли оно сбалансированным, т.е. сумма цифр до средних равна сумме цифр после. Средними в случае нечетного числа цифр считать одну цифру, в случае четного - две средних. Написать тесты для кода"
      ]
    },
    {
      "cell_type": "code",
      "execution_count": 7,
      "metadata": {
        "id": "gMAAqtqlQrZt"
      },
      "outputs": [],
      "source": [
        "# Your code goes here\n",
        "# Your code goes here\n",
        "def is_balanced_number(number: int) -> bool:\n",
        "    number_str = str(number)\n",
        "    length = len(number_str)\n",
        "    \n",
        "    if length <= 2:\n",
        "        return\n",
        "    \n",
        "    # Для нечетного числа\n",
        "    if length % 2 == 1:\n",
        "        mid = length // 2\n",
        "        left_sum = sum(int(number_str[_]) for _ in range(mid))\n",
        "        right_sum = sum(int(number_str[_]) for _ in range(mid + 1, length))\n",
        "    else:\n",
        "        # Для четного числа\n",
        "        mid1 = (length // 2) - 1\n",
        "        mid2 = (length // 2)\n",
        "        left_sum = sum(int(number_str[_]) for _ in range(mid1))\n",
        "        right_sum = sum(int(number_str[_]) for _ in range(mid2 + 1, length))\n",
        "    \n",
        "    return left_sum == right_sum\n",
        "\n",
        "if __name__ == '__main__':\n",
        "    assert is_balanced_number(123321)\n",
        "    assert not is_balanced_number(123325)\n",
        "    assert not is_balanced_number(123)\n",
        "    assert is_balanced_number(1) == None\n",
        "    assert is_balanced_number(21) == None"
      ]
    }
  ],
  "metadata": {
    "colab": {
      "provenance": []
    },
    "kernelspec": {
      "display_name": "Python 3",
      "name": "python3"
    },
    "language_info": {
      "codemirror_mode": {
        "name": "ipython",
        "version": 3
      },
      "file_extension": ".py",
      "mimetype": "text/x-python",
      "name": "python",
      "nbconvert_exporter": "python",
      "pygments_lexer": "ipython3",
      "version": "3.10.8"
    }
  },
  "nbformat": 4,
  "nbformat_minor": 0
}
